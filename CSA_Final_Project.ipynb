{
  "nbformat": 4,
  "nbformat_minor": 0,
  "metadata": {
    "colab": {
      "provenance": []
    },
    "kernelspec": {
      "name": "python3",
      "display_name": "Python 3"
    },
    "language_info": {
      "name": "python"
    }
  },
  "cells": [
    {
      "cell_type": "code",
      "execution_count": null,
      "metadata": {
        "colab": {
          "base_uri": "https://localhost:8080/"
        },
        "id": "kwXaYReVExBR",
        "outputId": "05807c4a-9e90-4c5e-884f-6214d4d28608"
      },
      "outputs": [
        {
          "output_type": "stream",
          "name": "stdout",
          "text": [
            "Processor 2 accesses memory address F\n",
            "Cache line: tag=F, state=E\n",
            "\n",
            "Processor 1 accesses memory address B\n",
            "Cache line: tag=B, state=E\n",
            "\n",
            "Processor 3 accesses memory address A\n",
            "Cache line: tag=A, state=E\n",
            "\n",
            "Processor 1 accesses memory address F\n",
            "Cache line: tag=F, state=S\n",
            "\n",
            "Processor 2 accesses memory address A\n",
            "Cache line: tag=A, state=S\n",
            "\n",
            "Processor 2 accesses memory address B\n",
            "Cache line: tag=B, state=E\n",
            "\n",
            "Processor 2 accesses memory address A\n",
            "Cache line: tag=A, state=S\n",
            "\n",
            "Processor 1 accesses memory address B\n",
            "Cache line: tag=B, state=S\n",
            "\n",
            "Processor 1 accesses memory address B\n",
            "Cache line: tag=B, state=S\n",
            "\n",
            "Processor 0 accesses memory address B\n",
            "Cache line: tag=B, state=S\n",
            "\n"
          ]
        }
      ],
      "source": [
        "import random\n",
        "\n",
        "# Cache states\n",
        "MODIFIED = \"M\"\n",
        "EXCLUSIVE = \"E\"\n",
        "SHARED = \"S\"\n",
        "INVALID = \"I\"\n",
        "\n",
        "class CacheLine:\n",
        "    def __init__(self, tag, state=INVALID):\n",
        "        self.tag = tag\n",
        "        self.state = state\n",
        "\n",
        "class Cache:\n",
        "    def __init__(self, size=4):\n",
        "        self.lines = [CacheLine(None, INVALID) for _ in range(size)]\n",
        "\n",
        "    def find_line(self, tag):\n",
        "        for line in self.lines:\n",
        "            if line.tag == tag:\n",
        "                return line\n",
        "        return None\n",
        "\n",
        "    def evict_lru(self, tag):\n",
        "        evicted_line = random.choice(self.lines)\n",
        "        evicted_line.tag = tag\n",
        "        evicted_line.state = INVALID\n",
        "        return evicted_line\n",
        "\n",
        "class MemoryHierarchy:\n",
        "    def __init__(self, num_processors=2, cache_size=4):\n",
        "        self.processors = [Cache(cache_size) for _ in range(num_processors)]\n",
        "\n",
        "    def access_memory(self, processor_id, tag):\n",
        "        cache = self.processors[processor_id]\n",
        "        line = cache.find_line(tag)\n",
        "\n",
        "        if line is None:\n",
        "            line = cache.evict_lru(tag)\n",
        "            other_caches = [p for i, p in enumerate(self.processors) if i != processor_id]\n",
        "            for other_cache in other_caches:\n",
        "                other_line = other_cache.find_line(tag)\n",
        "                if other_line is not None:\n",
        "                    if other_line.state == MODIFIED:\n",
        "                        line.state = SHARED\n",
        "                        other_line.state = SHARED\n",
        "                    elif other_line.state == EXCLUSIVE:\n",
        "                        line.state = SHARED\n",
        "                        other_line.state = SHARED\n",
        "                    elif other_line.state == SHARED:\n",
        "                        line.state = SHARED\n",
        "                    break\n",
        "            else:\n",
        "                line.state = EXCLUSIVE\n",
        "\n",
        "        return line\n",
        "\n",
        "def main():\n",
        "    hierarchy = MemoryHierarchy(num_processors=4, cache_size=4)\n",
        "    num_accesses = 10\n",
        "    tags = [\"A\", \"B\", \"C\", \"D\", \"E\", \"F\", \"G\", \"H\"]\n",
        "\n",
        "    for i in range(num_accesses):\n",
        "        processor_id = random.randint(0, len(hierarchy.processors) - 1)\n",
        "        tag = random.choice(tags)\n",
        "        print(f\"Processor {processor_id} accesses memory address {tag}\")\n",
        "        line = hierarchy.access_memory(processor_id, tag)\n",
        "        print(f\"Cache line: tag={line.tag}, state={line.state}\\n\")\n",
        "\n",
        "if __name__ == \"__main__\":\n",
        "    main()\n"
      ]
    },
    {
      "cell_type": "code",
      "source": [
        "import random\n",
        "\n",
        "class Block:\n",
        "    def __init__(self, tag, data, state):\n",
        "        self.tag = tag\n",
        "        self.data = data\n",
        "        self.state = state\n",
        "        self.timestamp = 0\n",
        "\n"
      ],
      "metadata": {
        "id": "O9etCZryFV9l"
      },
      "execution_count": 20,
      "outputs": []
    },
    {
      "cell_type": "code",
      "source": [
        "\n",
        "class Cache:\n",
        "    def __init__(self, capacity, replacement_policy):\n",
        "        self.capacity = capacity\n",
        "        self.blocks = {}\n",
        "        self.replacement_policy = replacement_policy\n",
        "\n",
        "    def access(self, tag, data):\n",
        "        if tag in self.blocks:\n",
        "            block = self.blocks[tag]\n",
        "            block.data = data\n",
        "            block.timestamp = 0\n",
        "            return True\n",
        "        return False\n",
        "\n",
        "    def insert(self, block):\n",
        "        if len(self.blocks) < self.capacity:\n",
        "            self.blocks[block.tag] = block\n",
        "        else:\n",
        "            victim = self.replacement_policy(self.blocks)\n",
        "            del self.blocks[victim.tag]\n",
        "            self.blocks[block.tag] = block\n",
        "\n",
        "    def evict(self, tag):\n",
        "        if tag in self.blocks:\n",
        "            del self.blocks[tag]\n"
      ],
      "metadata": {
        "id": "KRdS2QMWyrYp"
      },
      "execution_count": 21,
      "outputs": []
    },
    {
      "cell_type": "code",
      "source": [
        "\n",
        "def lru_policy(blocks):\n",
        "    least_recently_used = min(blocks.values(), key=lambda b: b.timestamp)\n",
        "    return least_recently_used\n"
      ],
      "metadata": {
        "id": "f1UvKBedytFP"
      },
      "execution_count": 22,
      "outputs": []
    },
    {
      "cell_type": "code",
      "source": [
        "\n",
        "def main(memory_accesses, private_cache_capacity, llc_capacity):\n",
        "    private_cache = Cache(private_cache_capacity, lru_policy)\n",
        "    llc = Cache(llc_capacity, lru_policy)\n",
        "\n",
        "    for access in memory_accesses:\n",
        "        tag, data = access\n",
        "        in_private_cache = private_cache.access(tag, data)\n",
        "        in_llc = llc.access(tag, data)\n",
        "\n",
        "        if not in_private_cache and not in_llc:\n",
        "            block = Block(tag, data, \"exclusive\")\n",
        "            llc.insert(block)\n",
        "            private_cache.insert(block)\n",
        "\n",
        "        for block in private_cache.blocks.values():\n",
        "            block.timestamp += 1\n",
        "        for block in llc.blocks.values():\n",
        "            block.timestamp += 1\n",
        "\n",
        "    return len(private_cache.blocks), len(llc.blocks)\n"
      ],
      "metadata": {
        "id": "7NfiAcZfyvN-"
      },
      "execution_count": 23,
      "outputs": []
    },
    {
      "cell_type": "code",
      "source": [
        "\n",
        "# Example test case\n",
        "memory_accesses = [(random.randint(1, 100), \"data_\" + str(i)) for i in range(200)]\n",
        "private_cache_capacity = 10\n",
        "llc_capacity = 50\n",
        "\n",
        "private_cache_blocks, llc_blocks = main(memory_accesses, private_cache_capacity, llc_capacity)\n",
        "print(\"Number of blocks in the private cache:\", private_cache_blocks)\n",
        "print(\"Number of blocks in the LLC:\", llc_blocks)"
      ],
      "metadata": {
        "colab": {
          "base_uri": "https://localhost:8080/"
        },
        "id": "G2hcZtNwywO8",
        "outputId": "498b77c5-ae43-4c1c-aadf-04a7d16e11b0"
      },
      "execution_count": 24,
      "outputs": [
        {
          "output_type": "stream",
          "name": "stdout",
          "text": [
            "Number of blocks in the private cache: 10\n",
            "Number of blocks in the LLC: 50\n"
          ]
        }
      ]
    },
    {
      "cell_type": "code",
      "source": [
        "def compute_decoded_next_rs(pv, decoded_rs):\n",
        "    # Generate mask = 11...100...0 with the cross-over from 0 to 1 happening right after the current RS position\n",
        "    mask = (~decoded_rs + 1) & ~decoded_rs\n",
        "\n",
        "    # Extract upper and lower portions of PV split right after the current RS position\n",
        "    upper_pv = pv & mask\n",
        "    lower_pv = pv & ~mask\n",
        "\n",
        "    # Find the next set bit position in upperPV\n",
        "    decoded_next_rs_upper = upper_pv & (~upper_pv + 1)\n",
        "\n",
        "    # Find the next set bit position in lowerPV\n",
        "    decoded_next_rs_lower = lower_pv & (~lower_pv + 1)\n",
        "\n",
        "    # Compute the final output\n",
        "    if decoded_next_rs_upper == 0:\n",
        "        decoded_next_rs = decoded_next_rs_lower\n",
        "    else:\n",
        "        decoded_next_rs = decoded_next_rs_upper\n",
        "\n",
        "    return decoded_next_rs\n",
        "\n",
        "# Example usage\n",
        "pv = 0b101010101\n",
        "decoded_rs = 0b1000\n",
        "decoded_next_rs = compute_decoded_next_rs(pv, decoded_rs)\n",
        "print(f\"decoded_next_rs: {decoded_next_rs:b}\")\n"
      ],
      "metadata": {
        "id": "-SYrXxMuJx8A",
        "colab": {
          "base_uri": "https://localhost:8080/"
        },
        "outputId": "f7d78981-8f3f-4175-f7a0-ea22829ad99b"
      },
      "execution_count": 25,
      "outputs": [
        {
          "output_type": "stream",
          "name": "stdout",
          "text": [
            "decoded_next_rs: 10000\n"
          ]
        }
      ]
    },
    {
      "cell_type": "code",
      "source": [
        "import random\n",
        "\n",
        "class CacheBlock:\n",
        "    def __init__(self, tag):\n",
        "        self.tag = tag\n",
        "        self.timestamp = 0\n",
        "\n"
      ],
      "metadata": {
        "id": "ke-_qzBWlz6P"
      },
      "execution_count": 27,
      "outputs": []
    },
    {
      "cell_type": "code",
      "source": [
        "\n",
        "class CacheSet:\n",
        "    def __init__(self, associativity):\n",
        "        self.associativity = associativity\n",
        "        self.blocks = []\n",
        "\n",
        "    def access(self, tag):\n",
        "        for block in self.blocks:\n",
        "            if block.tag == tag:\n",
        "                return True\n",
        "        return False\n",
        "\n",
        "    def add_block(self, tag, timestamp):\n",
        "        if len(self.blocks) < self.associativity:\n",
        "            self.blocks.append(CacheBlock(tag))\n",
        "            self.update_timestamp(tag, timestamp)\n",
        "        else:\n",
        "            self.evict()\n",
        "            self.add_block(tag, timestamp)\n",
        "\n",
        "    def update_timestamp(self, tag, timestamp):\n",
        "        for block in self.blocks:\n",
        "            if block.tag == tag:\n",
        "                block.timestamp = timestamp\n",
        "                break\n",
        "\n",
        "    def evict(self):\n",
        "        lru_block = min(self.blocks, key=lambda x: x.timestamp)\n",
        "        self.blocks.remove(lru_block)\n"
      ],
      "metadata": {
        "id": "0eI8kZuyy8vu"
      },
      "execution_count": 28,
      "outputs": []
    },
    {
      "cell_type": "code",
      "source": [
        "\n",
        "class Cache:\n",
        "    def __init__(self, size, associativity, block_size):\n",
        "        self.size = size\n",
        "        self.associativity = associativity\n",
        "        self.block_size = block_size\n",
        "        self.sets_count = size // (associativity * block_size)\n",
        "        self.sets = [CacheSet(associativity) for _ in range(self.sets_count)]\n",
        "        self.access_count = 0\n",
        "\n",
        "    def access(self, address):\n",
        "        tag, index = self.parse_address(address)\n",
        "        if self.is_hit(tag, index):\n",
        "            self.sets[index].update_timestamp(tag, self.access_count)\n",
        "        else:\n",
        "            self.sets[index].add_block(tag, self.access_count)\n",
        "        self.access_count += 1\n",
        "\n",
        "    def is_hit(self, tag, index):\n",
        "        return self.sets[index].access(tag)\n",
        "\n",
        "    def parse_address(self, address):\n",
        "        index = (address // self.block_size) % self.sets_count\n",
        "        tag = address // (self.block_size * self.sets_count)\n",
        "        return tag, index\n",
        "\n",
        "def generate_addresses(num_addresses):\n",
        "    return [random.randint(0, 65535) for _ in range(num_addresses)]\n"
      ],
      "metadata": {
        "id": "eO0VT_gDy-RJ"
      },
      "execution_count": 29,
      "outputs": []
    },
    {
      "cell_type": "code",
      "source": [
        "\n",
        "def main():\n",
        "    cache_size = 32 * 1024\n",
        "    associativity = 4\n",
        "    block_size = 64\n",
        "    num_accesses = 10000\n",
        "\n",
        "    cache = Cache(cache_size, associativity, block_size)\n",
        "    addresses = generate_addresses(num_accesses)\n",
        "\n",
        "    for address in addresses:\n",
        "        cache.access(address)\n",
        "\n",
        "    print(f\"Simulation finished after {num_accesses} accesses.\")\n",
        "\n",
        "if __name__ == \"__main__\":\n",
        "    main()"
      ],
      "metadata": {
        "colab": {
          "base_uri": "https://localhost:8080/"
        },
        "id": "yDxaKD8fzAR6",
        "outputId": "88901f6e-5a1d-4fa2-f071-cf965b51d336"
      },
      "execution_count": 30,
      "outputs": [
        {
          "output_type": "stream",
          "name": "stdout",
          "text": [
            "Simulation finished after 10000 accesses.\n"
          ]
        }
      ]
    },
    {
      "cell_type": "markdown",
      "source": [
        "**Final** Run"
      ],
      "metadata": {
        "id": "xt-o45NYzIX0"
      }
    },
    {
      "cell_type": "code",
      "source": [
        "import random\n",
        "\n",
        "\n",
        "\n",
        "class Cache:\n",
        "    def __init__(self, size, associativity, block_size, ziv_enabled=False):\n",
        "        self.size = size\n",
        "        self.associativity = associativity\n",
        "        self.block_size = block_size\n",
        "        self.sets_count = size // (associativity * block_size)\n",
        "        self.sets = [CacheSet(associativity) for _ in range(self.sets_count)]\n",
        "        self.access_count = 0\n",
        "        self.miss_count = 0\n",
        "        self.ziv_enabled = ziv_enabled\n",
        "\n",
        "    def access(self, address):\n",
        "        tag, index = self.parse_address(address)\n",
        "        if self.is_hit(tag, index):\n",
        "            self.sets[index].update_timestamp(tag, self.access_count)\n",
        "        else:\n",
        "            self.miss_count += 1\n",
        "            if self.ziv_enabled:\n",
        "                self.evict_and_relocate(tag, index)\n",
        "            else:\n",
        "                self.sets[index].add_block(tag, self.access_count)\n",
        "        self.access_count += 1\n",
        "\n",
        "   \n",
        "    def is_hit(self, tag, index):\n",
        "        return self.sets[index].access(tag)\n",
        "\n",
        "    def parse_address(self, address):\n",
        "        index = (address // self.block_size) % self.sets_count\n",
        "        tag = address // (self.block_size * self.sets_count)\n",
        "        return tag, index\n",
        "    def evict_and_relocate(self, tag, index):\n",
        "        # Implement ZIV block relocation protocol\n",
        "        pass\n",
        "\n"
      ],
      "metadata": {
        "id": "KkfCNmwIspR1"
      },
      "execution_count": 31,
      "outputs": []
    },
    {
      "cell_type": "code",
      "source": [
        "\n",
        "def main():\n",
        "    cache_size = 32 * 1024\n",
        "    associativity = 4\n",
        "    block_size = 64\n",
        "    num_accesses = 10000\n",
        "\n",
        "    # Without ZIV LLC design (baseline LLC policy)\n",
        "    cache_without_ziv = Cache(cache_size, associativity, block_size)\n",
        "    # With ZIV LLC design (block relocation protocol)\n",
        "    cache_with_ziv = Cache(cache_size, associativity, block_size, ziv_enabled=True)\n",
        "\n",
        "    addresses = generate_addresses(num_accesses)\n",
        "\n",
        "    for address in addresses:\n",
        "        cache_without_ziv.access(address)\n",
        "        cache_with_ziv.access(address)\n",
        "\n",
        "    miss_rate_without_ziv = cache_without_ziv.miss_count / num_accesses\n",
        "    miss_rate_with_ziv = cache_with_ziv.miss_count / num_accesses\n",
        "\n",
        "    print(f\"Miss rate without ZIV LLC design: {miss_rate_without_ziv:.2%}\")\n",
        "    print(f\"Miss rate with ZIV LLC design: {miss_rate_with_ziv:.2%}\")\n",
        "\n",
        "if __name__ == \"__main__\":\n",
        "    main()"
      ],
      "metadata": {
        "colab": {
          "base_uri": "https://localhost:8080/"
        },
        "id": "hEpePeJtzQaq",
        "outputId": "0fc53965-becc-40ce-86d9-d10d9cd9b99c"
      },
      "execution_count": 32,
      "outputs": [
        {
          "output_type": "stream",
          "name": "stdout",
          "text": [
            "Miss rate without ZIV LLC design: 52.35%\n",
            "Miss rate with ZIV LLC design: 100.00%\n"
          ]
        }
      ]
    }
  ]
}